{
 "cells": [
  {
   "cell_type": "code",
   "execution_count": 1,
   "metadata": {},
   "outputs": [],
   "source": [
    "import datapackage"
   ]
  },
  {
   "cell_type": "code",
   "execution_count": 2,
   "metadata": {},
   "outputs": [
    {
     "data": {
      "text/plain": [
       "<datapackage.package.Package at 0x23117bf3898>"
      ]
     },
     "execution_count": 2,
     "metadata": {},
     "output_type": "execute_result"
    }
   ],
   "source": [
    "# create a datapakage object\n",
    "package = datapackage.Package()\n",
    "package"
   ]
  },
  {
   "cell_type": "code",
   "execution_count": 5,
   "metadata": {},
   "outputs": [
    {
     "data": {
      "text/plain": [
       "{'profile': 'data-package',\n",
       " 'Title': 'Winemag reviews kaggle',\n",
       " 'name': 'winemag-raw'}"
      ]
     },
     "execution_count": 5,
     "metadata": {},
     "output_type": "execute_result"
    }
   ],
   "source": [
    "# add descriptors \n",
    "package.descriptor['Title'] = 'Winemag reviews kaggle'\n",
    "package.descriptor['name'] = 'winemag-raw'\n",
    "\n",
    "package.descriptor"
   ]
  },
  {
   "cell_type": "code",
   "execution_count": 6,
   "metadata": {},
   "outputs": [
    {
     "data": {
      "text/plain": [
       "{'profile': 'tabular-data-package',\n",
       " 'resources': [{'path': 'data\\\\raw\\\\winemag-data-130k-v2.csv',\n",
       "   'profile': 'tabular-data-resource',\n",
       "   'name': 'winemag-data-130k-v2',\n",
       "   'format': 'csv',\n",
       "   'mediatype': 'text/csv',\n",
       "   'encoding': 'utf-8',\n",
       "   'schema': {'fields': [{'name': '', 'type': 'integer', 'format': 'default'},\n",
       "     {'name': 'country', 'type': 'string', 'format': 'default'},\n",
       "     {'name': 'description', 'type': 'string', 'format': 'default'},\n",
       "     {'name': 'designation', 'type': 'string', 'format': 'default'},\n",
       "     {'name': 'points', 'type': 'integer', 'format': 'default'},\n",
       "     {'name': 'price', 'type': 'number', 'format': 'default'},\n",
       "     {'name': 'province', 'type': 'string', 'format': 'default'},\n",
       "     {'name': 'region_1', 'type': 'string', 'format': 'default'},\n",
       "     {'name': 'region_2', 'type': 'string', 'format': 'default'},\n",
       "     {'name': 'taster_name', 'type': 'string', 'format': 'default'},\n",
       "     {'name': 'taster_twitter_handle', 'type': 'string', 'format': 'default'},\n",
       "     {'name': 'title', 'type': 'string', 'format': 'default'},\n",
       "     {'name': 'variety', 'type': 'string', 'format': 'default'},\n",
       "     {'name': 'winery', 'type': 'string', 'format': 'default'}],\n",
       "    'missingValues': ['']}},\n",
       "  {'path': 'data\\\\raw\\\\winemag-data_first150k.csv',\n",
       "   'profile': 'tabular-data-resource',\n",
       "   'name': 'winemag-data_first150k',\n",
       "   'format': 'csv',\n",
       "   'mediatype': 'text/csv',\n",
       "   'encoding': 'windows-1252',\n",
       "   'schema': {'fields': [{'name': '', 'type': 'integer', 'format': 'default'},\n",
       "     {'name': 'country', 'type': 'string', 'format': 'default'},\n",
       "     {'name': 'description', 'type': 'string', 'format': 'default'},\n",
       "     {'name': 'designation', 'type': 'string', 'format': 'default'},\n",
       "     {'name': 'points', 'type': 'integer', 'format': 'default'},\n",
       "     {'name': 'price', 'type': 'number', 'format': 'default'},\n",
       "     {'name': 'province', 'type': 'string', 'format': 'default'},\n",
       "     {'name': 'region_1', 'type': 'string', 'format': 'default'},\n",
       "     {'name': 'region_2', 'type': 'string', 'format': 'default'},\n",
       "     {'name': 'variety', 'type': 'string', 'format': 'default'},\n",
       "     {'name': 'winery', 'type': 'string', 'format': 'default'}],\n",
       "    'missingValues': ['']}}]}"
      ]
     },
     "execution_count": 6,
     "metadata": {},
     "output_type": "execute_result"
    }
   ],
   "source": [
    "package.infer('**/*.csv')"
   ]
  },
  {
   "cell_type": "code",
   "execution_count": 7,
   "metadata": {},
   "outputs": [
    {
     "data": {
      "text/plain": [
       "{'path': 'data\\\\raw\\\\winemag-data-130k-v2.csv',\n",
       " 'profile': 'tabular-data-resource',\n",
       " 'name': 'winemag-data-130k-v2',\n",
       " 'format': 'csv',\n",
       " 'mediatype': 'text/csv',\n",
       " 'encoding': 'utf-8',\n",
       " 'schema': {'fields': [{'name': '', 'type': 'integer', 'format': 'default'},\n",
       "   {'name': 'country', 'type': 'string', 'format': 'default'},\n",
       "   {'name': 'description', 'type': 'string', 'format': 'default'},\n",
       "   {'name': 'designation', 'type': 'string', 'format': 'default'},\n",
       "   {'name': 'points', 'type': 'integer', 'format': 'default'},\n",
       "   {'name': 'price', 'type': 'number', 'format': 'default'},\n",
       "   {'name': 'province', 'type': 'string', 'format': 'default'},\n",
       "   {'name': 'region_1', 'type': 'string', 'format': 'default'},\n",
       "   {'name': 'region_2', 'type': 'string', 'format': 'default'},\n",
       "   {'name': 'taster_name', 'type': 'string', 'format': 'default'},\n",
       "   {'name': 'taster_twitter_handle', 'type': 'string', 'format': 'default'},\n",
       "   {'name': 'title', 'type': 'string', 'format': 'default'},\n",
       "   {'name': 'variety', 'type': 'string', 'format': 'default'},\n",
       "   {'name': 'winery', 'type': 'string', 'format': 'default'}],\n",
       "  'missingValues': ['']}}"
      ]
     },
     "execution_count": 7,
     "metadata": {},
     "output_type": "execute_result"
    }
   ],
   "source": [
    "package.descriptor['resources'][0]"
   ]
  },
  {
   "cell_type": "code",
   "execution_count": 8,
   "metadata": {},
   "outputs": [],
   "source": [
    "package.descriptor['resources'][0]['name'] = 'winemag'"
   ]
  },
  {
   "cell_type": "code",
   "execution_count": 9,
   "metadata": {},
   "outputs": [
    {
     "data": {
      "text/plain": [
       "{'profile': 'tabular-data-package',\n",
       " 'resources': [{'path': 'data\\\\raw\\\\winemag-data-130k-v2.csv',\n",
       "   'profile': 'tabular-data-resource',\n",
       "   'name': 'winemag',\n",
       "   'format': 'csv',\n",
       "   'mediatype': 'text/csv',\n",
       "   'encoding': 'utf-8',\n",
       "   'schema': {'fields': [{'name': '', 'type': 'integer', 'format': 'default'},\n",
       "     {'name': 'country', 'type': 'string', 'format': 'default'},\n",
       "     {'name': 'description', 'type': 'string', 'format': 'default'},\n",
       "     {'name': 'designation', 'type': 'string', 'format': 'default'},\n",
       "     {'name': 'points', 'type': 'integer', 'format': 'default'},\n",
       "     {'name': 'price', 'type': 'number', 'format': 'default'},\n",
       "     {'name': 'province', 'type': 'string', 'format': 'default'},\n",
       "     {'name': 'region_1', 'type': 'string', 'format': 'default'},\n",
       "     {'name': 'region_2', 'type': 'string', 'format': 'default'},\n",
       "     {'name': 'taster_name', 'type': 'string', 'format': 'default'},\n",
       "     {'name': 'taster_twitter_handle', 'type': 'string', 'format': 'default'},\n",
       "     {'name': 'title', 'type': 'string', 'format': 'default'},\n",
       "     {'name': 'variety', 'type': 'string', 'format': 'default'},\n",
       "     {'name': 'winery', 'type': 'string', 'format': 'default'}],\n",
       "    'missingValues': ['']}},\n",
       "  {'path': 'data\\\\raw\\\\winemag-data_first150k.csv',\n",
       "   'profile': 'tabular-data-resource',\n",
       "   'name': 'winemag-data_first150k',\n",
       "   'format': 'csv',\n",
       "   'mediatype': 'text/csv',\n",
       "   'encoding': 'windows-1252',\n",
       "   'schema': {'fields': [{'name': '', 'type': 'integer', 'format': 'default'},\n",
       "     {'name': 'country', 'type': 'string', 'format': 'default'},\n",
       "     {'name': 'description', 'type': 'string', 'format': 'default'},\n",
       "     {'name': 'designation', 'type': 'string', 'format': 'default'},\n",
       "     {'name': 'points', 'type': 'integer', 'format': 'default'},\n",
       "     {'name': 'price', 'type': 'number', 'format': 'default'},\n",
       "     {'name': 'province', 'type': 'string', 'format': 'default'},\n",
       "     {'name': 'region_1', 'type': 'string', 'format': 'default'},\n",
       "     {'name': 'region_2', 'type': 'string', 'format': 'default'},\n",
       "     {'name': 'variety', 'type': 'string', 'format': 'default'},\n",
       "     {'name': 'winery', 'type': 'string', 'format': 'default'}],\n",
       "    'missingValues': ['']}}]}"
      ]
     },
     "execution_count": 9,
     "metadata": {},
     "output_type": "execute_result"
    }
   ],
   "source": [
    "package.descriptor"
   ]
  },
  {
   "cell_type": "code",
   "execution_count": 10,
   "metadata": {},
   "outputs": [
    {
     "data": {
      "text/plain": [
       "True"
      ]
     },
     "execution_count": 10,
     "metadata": {},
     "output_type": "execute_result"
    }
   ],
   "source": [
    "package.save('data/raw/datapackage.json')"
   ]
  },
  {
   "cell_type": "code",
   "execution_count": 11,
   "metadata": {},
   "outputs": [
    {
     "data": {
      "text/plain": [
       "True"
      ]
     },
     "execution_count": 11,
     "metadata": {},
     "output_type": "execute_result"
    }
   ],
   "source": [
    "package.save('data/raw/datapackage.zip')"
   ]
  },
  {
   "cell_type": "code",
   "execution_count": null,
   "metadata": {},
   "outputs": [],
   "source": []
  }
 ],
 "metadata": {
  "kernelspec": {
   "display_name": "Python 3",
   "language": "python",
   "name": "python3"
  },
  "language_info": {
   "codemirror_mode": {
    "name": "ipython",
    "version": 3
   },
   "file_extension": ".py",
   "mimetype": "text/x-python",
   "name": "python",
   "nbconvert_exporter": "python",
   "pygments_lexer": "ipython3",
   "version": "3.6.5"
  }
 },
 "nbformat": 4,
 "nbformat_minor": 2
}
